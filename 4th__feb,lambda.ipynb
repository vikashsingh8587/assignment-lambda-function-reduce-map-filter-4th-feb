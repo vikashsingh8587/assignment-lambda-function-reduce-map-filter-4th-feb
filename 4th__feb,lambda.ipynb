{
 "cells": [
  {
   "cell_type": "code",
   "execution_count": 1,
   "id": "826acdc7-ae07-4545-bce0-45192fc6b449",
   "metadata": {},
   "outputs": [],
   "source": [
    "# 1. create a python program to sort the given list of tuples based on integer\n",
    "#    value using a lambda function."
   ]
  },
  {
   "cell_type": "code",
   "execution_count": 47,
   "id": "83ab4500-3198-447b-87b0-cb3b18c2f56a",
   "metadata": {},
   "outputs": [
    {
     "data": {
      "text/plain": [
       "[34357, 27483, 25534, 24936]"
      ]
     },
     "execution_count": 47,
     "metadata": {},
     "output_type": "execute_result"
    }
   ],
   "source": [
    "l=[('sachin tendulkar',34357),('ricky ponting',27483),('jack kallis',25534),\n",
    "   ('virat kohli',24936)]\n",
    "list(map (lambda x: x[0]  if  type(x[0])==int else x[1]  ,l))"
   ]
  },
  {
   "cell_type": "code",
   "execution_count": 44,
   "id": "16210dfd-0b6c-4e27-8e63-065aba5c433c",
   "metadata": {},
   "outputs": [
    {
     "data": {
      "text/plain": [
       "[1, 4, 9, 16, 25, 36, 49, 64, 81, 100]"
      ]
     },
     "execution_count": 44,
     "metadata": {},
     "output_type": "execute_result"
    }
   ],
   "source": [
    "#2.  write a program  to find  the  square of all the  numbers in the given list of \n",
    "#    integers using lambda and map functions\n",
    "l1= [1,2,3,4,5,6,7,8,9,10]\n",
    "k=map(lambda x: x**2,l1)\n",
    "list(k)\n",
    " ## another way \n"
   ]
  },
  {
   "cell_type": "code",
   "execution_count": 45,
   "id": "13e90310-d3c1-4e37-be9b-de1ff494562b",
   "metadata": {},
   "outputs": [
    {
     "data": {
      "text/plain": [
       "[1, 4, 9, 16, 25, 36, 49, 64, 81, 100]"
      ]
     },
     "execution_count": 45,
     "metadata": {},
     "output_type": "execute_result"
    }
   ],
   "source": [
    "k = lambda x: x**2\n",
    "list(map(k,l1))"
   ]
  },
  {
   "cell_type": "code",
   "execution_count": 48,
   "id": "d3ee26b7-cd4e-4db7-9f25-0ca8a2cdf8e9",
   "metadata": {},
   "outputs": [],
   "source": [
    "# 3. write a python program to convert the given list of integers into  tuple of strings . \n",
    "#use map andlambda function\n",
    "#   INPUT L=[1,2,3,4,5,6,7,8,9,10]\n",
    "#   OUTPUT ['1','2','3','4','5','6','7','8','9','10',]"
   ]
  },
  {
   "cell_type": "code",
   "execution_count": 49,
   "id": "e96aaac1-fc43-4fe7-b1ca-a0c632db9d2b",
   "metadata": {},
   "outputs": [
    {
     "data": {
      "text/plain": [
       "['1', '2', '3', '4', '5', '6', '7', '8', '9', '10']"
      ]
     },
     "execution_count": 49,
     "metadata": {},
     "output_type": "execute_result"
    }
   ],
   "source": [
    "l=[1,2,3,4,5,6,7,8,9,10]\n",
    "list(map(lambda x:str(x),l))"
   ]
  },
  {
   "cell_type": "code",
   "execution_count": 50,
   "id": "562aa7aa-6ea7-41b2-ab27-8e8be4e5460a",
   "metadata": {},
   "outputs": [],
   "source": [
    "# 4. write a python program using reduce function to compute the product of a \n",
    "#   list containg number from 1 to 25"
   ]
  },
  {
   "cell_type": "code",
   "execution_count": 54,
   "id": "689d9fff-278c-4cab-b169-d9a22a4c55df",
   "metadata": {},
   "outputs": [
    {
     "data": {
      "text/plain": [
       "15511210043330985984000000"
      ]
     },
     "execution_count": 54,
     "metadata": {},
     "output_type": "execute_result"
    }
   ],
   "source": [
    "l= [1,2,3,4,5,6,7,8,9,10,11,12,13,14,15,16,17,18,19,20,21,22,23,24,25]\n",
    "from functools import reduce\n",
    "(reduce(lambda x,y:x*y,l))"
   ]
  },
  {
   "cell_type": "code",
   "execution_count": 55,
   "id": "2a1cd583-c58b-40f0-b4d6-a10415540fbd",
   "metadata": {},
   "outputs": [],
   "source": [
    "# 5. write a python program to filter the number in a given  list\n",
    "#    that are divisible by 2 and 3 using filter function "
   ]
  },
  {
   "cell_type": "code",
   "execution_count": 57,
   "id": "61dbbf32-4471-4766-a8cc-09ad323670c2",
   "metadata": {},
   "outputs": [
    {
     "data": {
      "text/plain": [
       "[2, 3, 6, 9, 27, 60, 90, 120, 46]"
      ]
     },
     "execution_count": 57,
     "metadata": {},
     "output_type": "execute_result"
    }
   ],
   "source": [
    "l= [2,3,6,9,27,60,90,120,55,46]\n",
    "list(filter(lambda x: x if(x%2==0 or x%3==0) else \"\",l))"
   ]
  },
  {
   "cell_type": "code",
   "execution_count": 58,
   "id": "c11cbb12-531e-4278-b02d-212c8ec7e7fb",
   "metadata": {},
   "outputs": [],
   "source": [
    "# 6. write a python program  to find  palindromes in the given \n",
    "#     list of string using lambda and filter function "
   ]
  },
  {
   "cell_type": "code",
   "execution_count": 61,
   "id": "8e985395-6833-4ea6-8b0f-ba46b98405a5",
   "metadata": {},
   "outputs": [
    {
     "data": {
      "text/plain": [
       "['php', 'aba', 'radar', 'level']"
      ]
     },
     "execution_count": 61,
     "metadata": {},
     "output_type": "execute_result"
    }
   ],
   "source": [
    "l=['python','php','aba','radar','level']\n",
    "list(filter(lambda x: x if (x==x[::-1]) else \"\" ,l))\n"
   ]
  },
  {
   "cell_type": "code",
   "execution_count": null,
   "id": "bb8dbfda-7342-46da-8530-a9f417eddeff",
   "metadata": {},
   "outputs": [],
   "source": []
  }
 ],
 "metadata": {
  "kernelspec": {
   "display_name": "Python 3 (ipykernel)",
   "language": "python",
   "name": "python3"
  },
  "language_info": {
   "codemirror_mode": {
    "name": "ipython",
    "version": 3
   },
   "file_extension": ".py",
   "mimetype": "text/x-python",
   "name": "python",
   "nbconvert_exporter": "python",
   "pygments_lexer": "ipython3",
   "version": "3.10.8"
  }
 },
 "nbformat": 4,
 "nbformat_minor": 5
}
